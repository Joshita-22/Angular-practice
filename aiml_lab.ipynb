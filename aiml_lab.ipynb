{
  "nbformat": 4,
  "nbformat_minor": 0,
  "metadata": {
    "colab": {
      "provenance": [],
      "authorship_tag": "ABX9TyPn/W4umpWVcIIyLqk4ymNH",
      "include_colab_link": true
    },
    "kernelspec": {
      "name": "python3",
      "display_name": "Python 3"
    },
    "language_info": {
      "name": "python"
    }
  },
  "cells": [
    {
      "cell_type": "markdown",
      "metadata": {
        "id": "view-in-github",
        "colab_type": "text"
      },
      "source": [
        "<a href=\"https://colab.research.google.com/github/Joshita-22/Angular-practice/blob/main/aiml_lab.ipynb\" target=\"_parent\"><img src=\"https://colab.research.google.com/assets/colab-badge.svg\" alt=\"Open In Colab\"/></a>"
      ]
    },
    {
      "cell_type": "code",
      "execution_count": 16,
      "metadata": {
        "colab": {
          "base_uri": "https://localhost:8080/"
        },
        "id": "irO64TToBC3O",
        "outputId": "b5cfda95-0c6d-4c65-a478-bb9685be879e"
      },
      "outputs": [
        {
          "output_type": "stream",
          "name": "stdout",
          "text": [
            "path found:['A', 'F', 'G', 'I', 'J']\n"
          ]
        },
        {
          "output_type": "execute_result",
          "data": {
            "text/plain": [
              "['A', 'F', 'G', 'I', 'J']"
            ]
          },
          "metadata": {},
          "execution_count": 16
        }
      ],
      "source": [
        "def aStarAlgo(start_node,stop_node):\n",
        "  open_set=set(start_node)\n",
        "  closed_set=set()\n",
        "  g={}\n",
        "  parents={}\n",
        "  g[start_node]=0\n",
        "  parents[start_node]=start_node\n",
        "  while len(open_set)>0:\n",
        "    n=None\n",
        "    for v in open_set:\n",
        "      if n==None or g[v]+heuristic(v)<g[n]+heuristic(n):\n",
        "        n=v\n",
        "    if n==stop_node or Graph_nodes[n]==None:\n",
        "      pass\n",
        "    else:\n",
        "      for (m,weight) in get_neighbors(n):\n",
        "        if m not in open_set and m not in closed_set:\n",
        "          open_set.add(m)\n",
        "          parents[m]=n\n",
        "          g[m]=g[n]+weight\n",
        "        else:\n",
        "          if g[m]>g[n]+weight:\n",
        "            g[m]=g[n]+weight\n",
        "            parents[m]=n\n",
        "            if m in closed_set:\n",
        "              closed_set.remove(m)\n",
        "              open_set.add(m)\n",
        "    if n==None:\n",
        "      print(\"path does not exsist\")\n",
        "      return None\n",
        "\n",
        "    if n==stop_node:\n",
        "      path=[]\n",
        "      while parents[n]!=n:\n",
        "        path.append(n)\n",
        "        n=parents[n]\n",
        "      path.append(start_node)\n",
        "      path.reverse()\n",
        "      print(\"path found:{}\".format(path))\n",
        "      return path\n",
        "    open_set.remove(n)\n",
        "    closed_set.add(n)\n",
        "\n",
        "  print(\"path does not exsist\")\n",
        "  return None\n",
        "\n",
        "def get_neighbors(v):\n",
        "  if v in Graph_nodes:\n",
        "    return Graph_nodes[v]\n",
        "  else:\n",
        "    return None\n",
        "\n",
        "def heuristic(n):\n",
        "  H_dist={\n",
        "      'A': 10,\n",
        "      'B': 8,\n",
        "      'C': 5,\n",
        "      'D': 7,\n",
        "      'E': 3,\n",
        "      'F': 6,\n",
        "      'G': 5,\n",
        "      'H': 3,\n",
        "      'I': 1,\n",
        "      'J': 0\n",
        "      \n",
        "  }\n",
        "  return H_dist[n]\n",
        "\n",
        "Graph_nodes={\n",
        "    'A': [('B', 6), ('F', 3)],\n",
        "    'B': [('C', 3), ('D', 2)],\n",
        "    'C': [('D', 1), ('E', 5)],\n",
        "    'D': [('C', 1), ('E', 8)],\n",
        "    'E': [('I', 5), ('J', 5)],\n",
        "    'F': [('G', 1),('H', 7)] ,\n",
        "    'G': [('I', 3)],\n",
        "    'H': [('I', 2)],\n",
        "    'I': [('E', 5), ('J', 3)],\n",
        "    \n",
        "}\n",
        "aStarAlgo('A','J')    "
      ]
    },
    {
      "cell_type": "code",
      "source": [
        "class Graph:\n",
        "  def __init__(self,graph,heuristicNodeList,startNode):\n",
        "    self.graph=graph\n",
        "    self.H=heuristicNodeList\n",
        "    self.start=startNode\n",
        "    self.parent={}\n",
        "    self.status={}\n",
        "    self.solutionGraph={}\n",
        "  \n",
        "  def ApplyaoStar(self):\n",
        "    self.aoStar(self.start,False)\n",
        "\n",
        "  def getNeighbors(self,v):\n",
        "    return self.graph.get(v,'')\n",
        "\n",
        "  def get_Status(self,v):\n",
        "    return self.status.get(v,0)\n",
        "\n",
        "  def set_Status(self,v,val):\n",
        "    self.status[v]=val\n",
        "  \n",
        "  def getHeuristicNodeValue(self,n):\n",
        "    return self.H.get(n,0)\n",
        "\n",
        "  def setHeuristicNodeValue(self,n,value):\n",
        "    self.H[n]=value\n",
        "\n",
        "\n",
        "  def printSolution(self):\n",
        "    print(\"for the solution of the graph traverse from startnode\",self.start)\n",
        "    print(\"----------------------------------------------------------------\")\n",
        "    print(self.solutionGraph)\n",
        "    print(\"----------------------------------------------------------------\")\n",
        "\n",
        "  def computeMinimumCostChildNode(self,v):\n",
        "    minimumCost=0\n",
        "    costToChildNodeListDict={}\n",
        "    costToChildNodeListDict[minimumCost]=[]\n",
        "    flag=True\n",
        "\n",
        "    for nodeInfoTuple in self.getNeighbors(v):\n",
        "      cost=0\n",
        "      NodeList=[]\n",
        "      for c,weight in nodeInfoTuple:\n",
        "        cost=cost+self.getHeuristicNodeValue(c)+weight\n",
        "        NodeList.append(c)\n",
        "\n",
        "      if flag==True:\n",
        "        minimumCost=cost\n",
        "        costToChildNodeListDict[minimumCost]=NodeList\n",
        "        flag==False\n",
        "      else:\n",
        "        if minimumCost>cost:\n",
        "          minimumCost=cost\n",
        "          costToChildNodeListDict[minimumCost]=NodeList\n",
        "    return minimumCost,costToChildNodeListDict[minimumCost]\n",
        "\n",
        "  def aoStar(self,v,backTracking):\n",
        "    print(\"heuristic value:\",self.H)\n",
        "    print(\"solution graph:\",self.solutionGraph)\n",
        "    print(\"processing node:\",v)\n",
        "    print(\"-----------------------------------------\")\n",
        "\n",
        "    if self.get_Status(v)>=0:\n",
        "      minimumCost,childNodeList=self.computeMinimumCostChildNode(v)\n",
        "      self.set_Status(v,minimumCost)\n",
        "      self.setHeuristicNodeValue(v,len(childNodeList))\n",
        "\n",
        "      solved=True\n",
        "\n",
        "      for childnode in childNodeList:\n",
        "        self.parent[childnode]=v\n",
        "        if self.get_Status(childnode)!=-1:\n",
        "          solved=solved & False\n",
        "\n",
        "      if solved==True:\n",
        "        self.set_Status(v,-1)\n",
        "        self.solutionGraph[v]=childNodeList\n",
        "\n",
        "      if v!=self.start:\n",
        "        self.aoStar(self.parent[v],True)\n",
        "\n",
        "      if backTracking==False:\n",
        "        for childnode in childNodeList:\n",
        "          self.set_Status(childnode,0)\n",
        "          self.aoStar(childnode,False)\n",
        "\n",
        "h1={'A': 1, 'B': 6, 'C': 2, 'D': 12, 'E': 2, 'F': 1, 'G': 5, 'H': 7, 'I': 7, 'J':1, 'T': 3}\n",
        "graph1={\n",
        "    'A': [[('B', 1), ('C', 1)], [('D', 1)]],\n",
        "    'B': [[('G', 1)], [('H', 1)]],\n",
        "    'C': [[('J', 1)]],\n",
        "    'D': [[('E', 1), ('F', 1)]],\n",
        "    'G': [[('I', 1)]]\n",
        "    \n",
        "}\n",
        "G1=Graph(graph1,h1,'A')\n",
        "G1.ApplyaoStar()\n",
        "G1.printSolution()\n",
        "      \n",
        "          "
      ],
      "metadata": {
        "colab": {
          "base_uri": "https://localhost:8080/"
        },
        "id": "ZknCyExvFHPu",
        "outputId": "c0abf9de-dd95-4ed6-a254-20de8897b918"
      },
      "execution_count": 17,
      "outputs": [
        {
          "output_type": "stream",
          "name": "stdout",
          "text": [
            "heuristic value: {'A': 1, 'B': 6, 'C': 2, 'D': 12, 'E': 2, 'F': 1, 'G': 5, 'H': 7, 'I': 7, 'J': 1, 'T': 3}\n",
            "solution graph: {}\n",
            "processing node: A\n",
            "-----------------------------------------\n",
            "heuristic value: {'A': 1, 'B': 6, 'C': 2, 'D': 12, 'E': 2, 'F': 1, 'G': 5, 'H': 7, 'I': 7, 'J': 1, 'T': 3}\n",
            "solution graph: {}\n",
            "processing node: D\n",
            "-----------------------------------------\n",
            "heuristic value: {'A': 1, 'B': 6, 'C': 2, 'D': 2, 'E': 2, 'F': 1, 'G': 5, 'H': 7, 'I': 7, 'J': 1, 'T': 3}\n",
            "solution graph: {}\n",
            "processing node: A\n",
            "-----------------------------------------\n",
            "heuristic value: {'A': 1, 'B': 6, 'C': 2, 'D': 2, 'E': 2, 'F': 1, 'G': 5, 'H': 7, 'I': 7, 'J': 1, 'T': 3}\n",
            "solution graph: {}\n",
            "processing node: E\n",
            "-----------------------------------------\n",
            "heuristic value: {'A': 1, 'B': 6, 'C': 2, 'D': 2, 'E': 0, 'F': 1, 'G': 5, 'H': 7, 'I': 7, 'J': 1, 'T': 3}\n",
            "solution graph: {'E': []}\n",
            "processing node: D\n",
            "-----------------------------------------\n",
            "heuristic value: {'A': 1, 'B': 6, 'C': 2, 'D': 2, 'E': 0, 'F': 1, 'G': 5, 'H': 7, 'I': 7, 'J': 1, 'T': 3}\n",
            "solution graph: {'E': []}\n",
            "processing node: A\n",
            "-----------------------------------------\n",
            "heuristic value: {'A': 1, 'B': 6, 'C': 2, 'D': 2, 'E': 0, 'F': 1, 'G': 5, 'H': 7, 'I': 7, 'J': 1, 'T': 3}\n",
            "solution graph: {'E': []}\n",
            "processing node: F\n",
            "-----------------------------------------\n",
            "heuristic value: {'A': 1, 'B': 6, 'C': 2, 'D': 2, 'E': 0, 'F': 0, 'G': 5, 'H': 7, 'I': 7, 'J': 1, 'T': 3}\n",
            "solution graph: {'E': [], 'F': []}\n",
            "processing node: D\n",
            "-----------------------------------------\n",
            "heuristic value: {'A': 1, 'B': 6, 'C': 2, 'D': 2, 'E': 0, 'F': 0, 'G': 5, 'H': 7, 'I': 7, 'J': 1, 'T': 3}\n",
            "solution graph: {'E': [], 'F': [], 'D': ['E', 'F']}\n",
            "processing node: A\n",
            "-----------------------------------------\n",
            "for the solution of the graph traverse from startnode A\n",
            "----------------------------------------------------------------\n",
            "{'E': [], 'F': [], 'D': ['E', 'F'], 'A': ['D']}\n",
            "----------------------------------------------------------------\n"
          ]
        }
      ]
    },
    {
      "cell_type": "code",
      "source": [
        "import csv\n",
        "def g_0(n):\n",
        "  return (\"?\",)*n\n",
        "def s_0(n):\n",
        "  return (\"@\",)*n\n",
        "  "
      ],
      "metadata": {
        "id": "yGL9SAk-NXK3"
      },
      "execution_count": 18,
      "outputs": []
    },
    {
      "cell_type": "code",
      "source": [
        "def more_general(h1,h2):\n",
        "  more_general_parts=[]\n",
        "  for x,y in zip(h1,h2):\n",
        "    mg=x==\"?\" or (x!=\"@\")and(x==y or y==\"@\")\n",
        "    more_general_parts.append(mg)\n",
        "  return all(more_general_parts)"
      ],
      "metadata": {
        "id": "D5BpE2IGNlwG"
      },
      "execution_count": 19,
      "outputs": []
    },
    {
      "cell_type": "code",
      "source": [
        "def fulfills(examples,hypothesis):\n",
        "  return more_general(hypothesis,examples)"
      ],
      "metadata": {
        "id": "gBDSoXF9Oc-v"
      },
      "execution_count": 20,
      "outputs": []
    },
    {
      "cell_type": "code",
      "source": [
        "def min_generalisations(h,x):\n",
        "  h_new=list(h)\n",
        "  for i in range(len(h)):\n",
        "    if not fulfills(x[i:i+1],h[i:i+1]):\n",
        "      h_new[i]=\"?\" if h[i]!=\"@\" else x[i]\n",
        "  return[tuple(h_new)]"
      ],
      "metadata": {
        "id": "nfm-bVhnOyQ-"
      },
      "execution_count": 21,
      "outputs": []
    },
    {
      "cell_type": "code",
      "source": [
        "def min_specialisations(h,domains,x):\n",
        "  result=[]\n",
        "  for i in range(len(h)):\n",
        "    if h[i]==\"?\":\n",
        "      for val in domains[i]:\n",
        "        h_new=h[:i]+(val,)+h[i+1:]\n",
        "        result.append(h_new)\n",
        "    elif h[i]!=\"@\":\n",
        "       h_new=h[:i]+(\"@\",)+h[i+1:]\n",
        "       result.append(h_new)\n",
        "  return result\n",
        "      \n",
        "\n"
      ],
      "metadata": {
        "id": "0ruXJs_sQeur"
      },
      "execution_count": 22,
      "outputs": []
    },
    {
      "cell_type": "code",
      "source": [
        "with open('trainingexamplesT.csv') as csvFile:\n",
        "  examples=[tuple(line)for line in csv.reader(csvFile)]\n"
      ],
      "metadata": {
        "id": "RnsyORZfRz6o"
      },
      "execution_count": 23,
      "outputs": []
    },
    {
      "cell_type": "code",
      "source": [
        "def get_domains(examples):\n",
        "  d=[set()for i in examples[0]]\n",
        "  for x in examples:\n",
        "    for i, xi in enumerate(x):\n",
        "      d[i].add(xi)\n",
        "  return [list(sorted(x)) for x in d]\n",
        "    \n"
      ],
      "metadata": {
        "id": "rVOkqlYNSCa_"
      },
      "execution_count": 24,
      "outputs": []
    },
    {
      "cell_type": "code",
      "source": [
        "def candidate_elimination(examples):\n",
        "  domains = get_domains(examples)[:-1]\n",
        "  G = set([g_0(len(domains))])\n",
        "  S = set([s_0(len(domains))])\n",
        "  i = 0\n",
        "  print(\"\\n G[{0}]:\".format(i), G)\n",
        "  print(\"\\n S[{0}]:\".format(i), S)\n",
        "  for xcx in examples:\n",
        "    i = i + 1\n",
        "    x, cx = xcx[:-1], xcx[-1] \n",
        "    if cx == 'Y':\n",
        "      G = {g for g in G if fulfills(x, g)}\n",
        "      S = generalize_S(x, G, S)\n",
        "    else: \n",
        "      S = {s for s in S if not fulfills(x, s)}\n",
        "      G = specialize_G(x, domains, G, S)\n",
        "    print(\"\\n G[{0}]:\".format(i), G)\n",
        "    print(\"\\n S[{0}]:\".format(i), S)\n",
        "  return"
      ],
      "metadata": {
        "id": "tkWihPjBVRff"
      },
      "execution_count": 25,
      "outputs": []
    },
    {
      "cell_type": "code",
      "source": [
        "def generalize_S(x, G, S):\n",
        "  S_prev = list(S)\n",
        "  for s in S_prev:\n",
        "     if s not in S:\n",
        "       continue\n",
        "     if not fulfills(x, s):\n",
        "      S.remove(s)\n",
        "      Splus = min_generalisations(s, x)\n",
        "      S.update([h for h in Splus if any([more_general(g,h)for g in G])])\n",
        "      S.difference_update([h for h in S if any([more_general(h, h1)for h1 in S if h != h1])])\n",
        "  return S\n"
      ],
      "metadata": {
        "id": "EMwSk_wgVVS4"
      },
      "execution_count": 26,
      "outputs": []
    },
    {
      "cell_type": "code",
      "source": [
        "def specialize_G(x, domains, G, S):\n",
        "  G_prev = list(G)\n",
        "  for g in G_prev:\n",
        "    if g not in G:\n",
        "      continue\n",
        "    if fulfills(x, g):\n",
        "      G.remove(g)\n",
        "      Gminus = min_specialisations(g, domains, x)\n",
        "      G.update([h for h in Gminus if any([more_general(h, s) for s in S])])\n",
        "      G.difference_update([h for h in G if any([more_general(g1, h)for g1 in G if h != g1])])\n",
        "  return G\n",
        "candidate_elimination(examples)"
      ],
      "metadata": {
        "colab": {
          "base_uri": "https://localhost:8080/"
        },
        "id": "iN7YggPXVb1T",
        "outputId": "ec0d2e2b-7337-4220-e835-8dfaef79ae38"
      },
      "execution_count": 27,
      "outputs": [
        {
          "output_type": "stream",
          "name": "stdout",
          "text": [
            "\n",
            " G[0]: {('?', '?', '?', '?', '?', '?')}\n",
            "\n",
            " S[0]: {('@', '@', '@', '@', '@', '@')}\n",
            "\n",
            " G[1]: {('?', '?', '?', '?', '?', '?')}\n",
            "\n",
            " S[1]: {('Sunny', 'Warm', 'Normal', 'Strong', 'Warm', 'Same')}\n",
            "\n",
            " G[2]: {('?', '?', '?', '?', '?', '?')}\n",
            "\n",
            " S[2]: {('Sunny', 'Warm', '?', 'Strong', 'Warm', 'Same')}\n",
            "\n",
            " G[3]: {('?', '?', '?', '?', 'Warm', '?'), ('?', '?', '?', '?', '?', 'Same'), ('Sunny', '?', '?', '?', '?', '?'), ('?', '?', '?', 'Strong', '?', '?'), ('?', 'Warm', '?', '?', '?', '?')}\n",
            "\n",
            " S[3]: {('Sunny', 'Warm', '?', 'Strong', 'Warm', 'Same')}\n",
            "\n",
            " G[4]: {('?', 'Warm', '?', '?', '?', '?'), ('?', '?', '?', 'Strong', '?', '?'), ('Sunny', '?', '?', '?', '?', '?')}\n",
            "\n",
            " S[4]: {('Sunny', 'Warm', '?', 'Strong', '?', '?')}\n"
          ]
        }
      ]
    }
  ]
}